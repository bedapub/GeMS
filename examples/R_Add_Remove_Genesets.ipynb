{
 "cells": [
  {
   "cell_type": "markdown",
   "metadata": {},
   "source": [
    "## Adding and Removing Genesets with GeMS REST-API (R)"
   ]
  },
  {
   "cell_type": "markdown",
   "metadata": {},
   "source": [
    "Import libraries for dealing with HTTP requests"
   ]
  },
  {
   "cell_type": "code",
   "execution_count": 1,
   "metadata": {
    "collapsed": true
   },
   "outputs": [],
   "source": [
    "library(httr)\n",
    "library(jsonlite)"
   ]
  },
  {
   "cell_type": "markdown",
   "metadata": {},
   "source": [
    "### 1. Adding Genesets"
   ]
  },
  {
   "cell_type": "markdown",
   "metadata": {},
   "source": [
    "The URL endpoint for handling geneset imports: `\\insert`"
   ]
  },
  {
   "cell_type": "code",
   "execution_count": 2,
   "metadata": {
    "collapsed": true
   },
   "outputs": [],
   "source": [
    "BASE_URL_1 <- 'http://biocomp.bas.roche.com:1234/api/insert'"
   ]
  },
  {
   "cell_type": "markdown",
   "metadata": {},
   "source": [
    "There are three fields for the input JSON object:\n",
    "\n",
    "| Fields    | Type              | Description                                                       |\n",
    "|:---------:|:----------------- |:----------------------------------------------------------------- |\n",
    "| `params`  | `Dict`            | The command-line arguments for GMTx file upload (see below)       |\n",
    "| `headers` | `List[Str]`       | Tab-separated **header** of the GMTx file format                  |\n",
    "| `parsed`  | `List[List[Str]]` | Tab and line-separated **content** of the GMTx file format        |\n",
    "\n",
    "The applicable arguments for the `params` field are listed below:\n",
    "\n",
    "| Args | Name         | Required | Examples                |\n",
    "|:----:|:------------:|:--------:|:----------------------- |\n",
    "| `gf` | Gene format  | O        | 0, 1, 2, 3              |\n",
    "| `so` | Source       | O        | Roche, MSigDB...        |\n",
    "| `ti` | Taxonomy ID  | O        | 9606, 10090...          |\n",
    "| `us` | User         | O        | Public, badil...        |\n",
    "| `st` | Subtype      | X        | C7, BP...               |\n",
    "| `do` | Domain       | X        | pathway, cell marker... |"
   ]
  },
  {
   "cell_type": "code",
   "execution_count": 3,
   "metadata": {
    "collapsed": true
   },
   "outputs": [],
   "source": [
    "params <- list(gf = 0, so = 'Roche', ti = 9606, us = 'kanga6')\n",
    "\n",
    "headers <- c('setName', 'desc', 'genes')\n",
    "\n",
    "parsed <- list(\n",
    "    c('TIROSH_exhaution_marker_subset', 'subset from TRIOSH table S14', 'CXCL13', 'TNFRSF1B', 'RGS2'), \n",
    "    c('Speiser_EBV_subset_DN', 'subset from Speiser_table S2', 'ACADSB', 'AFTPH', 'ARL1')\n",
    ")\n",
    "\n",
    "dataIn_1 <- list (\n",
    "    headers = headers,\n",
    "    parsed = parsed,\n",
    "    params = params\n",
    ")"
   ]
  },
  {
   "cell_type": "markdown",
   "metadata": {},
   "source": [
    "The fields `headers` and `parsed`, in essence, contains a deconstructed GMTx file. If you have your genesets in a some other format, just write your own helper function. \n",
    "\n",
    "Here is an example with the same geneset as above (convert `genesets` to `parsed`):"
   ]
  },
  {
   "cell_type": "code",
   "execution_count": 4,
   "metadata": {
    "collapsed": true
   },
   "outputs": [],
   "source": [
    "genesets <- list(\n",
    "    list(\n",
    "        setName = 'TIROSH_exhaution_marker_subset', \n",
    "        desc = 'subset from TRIOSH table S14', \n",
    "        genes = c('CXCL13', 'TNFRSF1B', 'RGS2')\n",
    "    ),\n",
    "    list(\n",
    "        setName = 'Speiser_EBV_subset_DN', \n",
    "        desc = 'subset from Speiser_table S2', \n",
    "        genes = c('ACADSB', 'AFTPH', 'ARL1')\n",
    "    )\n",
    ")\n",
    "\n",
    "parsed <- list()\n",
    "for (geneset in genesets){\n",
    "    sParsed <- c()\n",
    "    for (header in headers){\n",
    "        sParsed <- c(sParsed, geneset[[header]])\n",
    "    }\n",
    "    parsed <- append(parsed, list(sParsed))\n",
    "}"
   ]
  },
  {
   "cell_type": "markdown",
   "metadata": {},
   "source": [
    "The payload is sent via an HTTP POST request, which returns the response as a JSON object. The first element of the `response` array should show either a 200 (good request) or a 404 (bad request). Any error messages are listed in the proceeding elements."
   ]
  },
  {
   "cell_type": "code",
   "execution_count": 5,
   "metadata": {},
   "outputs": [
    {
     "name": "stderr",
     "output_type": "stream",
     "text": [
      "No encoding supplied: defaulting to UTF-8.\n"
     ]
    },
    {
     "name": "stdout",
     "output_type": "stream",
     "text": [
      "$response\n",
      "[1] 200\n",
      "\n"
     ]
    }
   ],
   "source": [
    "response <- POST(BASE_URL_1, body=dataIn_1, encode='json')\n",
    "returnJSON <- fromJSON(httr::content(response, 'text'))\n",
    "print(returnJSON)"
   ]
  },
  {
   "cell_type": "markdown",
   "metadata": {},
   "source": [
    "### 2. Removing Genesets"
   ]
  },
  {
   "cell_type": "markdown",
   "metadata": {},
   "source": [
    "The URL endpoint for handling geneset removals: `\\remove`"
   ]
  },
  {
   "cell_type": "code",
   "execution_count": 6,
   "metadata": {
    "collapsed": true
   },
   "outputs": [],
   "source": [
    "BASE_URL_2 <- 'http://biocomp:1234/api/remove'"
   ]
  },
  {
   "cell_type": "markdown",
   "metadata": {},
   "source": [
    "There is one field for the input JSON object:\n",
    "\n",
    "| Field     | Type         | Description                                                             |\n",
    "|:---------:|:------------ |:----------------------------------------------------------------------- |\n",
    "| `genesets`| `List[Dict]` | Array of JSON objects with keys: `setName`, `source`, `user`, `subtype` | "
   ]
  },
  {
   "cell_type": "code",
   "execution_count": 7,
   "metadata": {
    "collapsed": true
   },
   "outputs": [],
   "source": [
    "toRemove <- list(\n",
    "    list(\n",
    "        setName = 'TIROSH_exhaution_marker_subset', \n",
    "        source = 'Roche', \n",
    "        user = 'kanga6', \n",
    "        subtype = ''\n",
    "    ),\n",
    "    list(\n",
    "        setName = 'Speiser_EBV_subset_DN', \n",
    "        source = 'Roche', \n",
    "        user = 'kanga6', \n",
    "        subtype = ''\n",
    "    )\n",
    ")\n",
    "\n",
    "dataIn_2 <- list(\n",
    "    genesets = toRemove\n",
    ")"
   ]
  },
  {
   "cell_type": "markdown",
   "metadata": {},
   "source": [
    "The payload is sent via an HTTP POST request, which returns the response as a JSON object. The first element of the `response` array should show either a 200 (good request) or a 404 (bad request). Any error messages are listed in the proceeding elements."
   ]
  },
  {
   "cell_type": "code",
   "execution_count": 8,
   "metadata": {},
   "outputs": [
    {
     "name": "stderr",
     "output_type": "stream",
     "text": [
      "No encoding supplied: defaulting to UTF-8.\n"
     ]
    },
    {
     "name": "stdout",
     "output_type": "stream",
     "text": [
      "$response\n",
      "[1] 200\n",
      "\n"
     ]
    }
   ],
   "source": [
    "response <- POST(BASE_URL_2, body=dataIn_2, encode='json')\n",
    "returnJSON <- fromJSON(httr::content(response, 'text'))\n",
    "print(returnJSON)"
   ]
  }
 ],
 "metadata": {
  "anaconda-cloud": {},
  "kernelspec": {
   "display_name": "R",
   "language": "R",
   "name": "ir"
  },
  "language_info": {
   "codemirror_mode": "r",
   "file_extension": ".r",
   "mimetype": "text/x-r-source",
   "name": "R",
   "pygments_lexer": "r",
   "version": "3.5.1"
  }
 },
 "nbformat": 4,
 "nbformat_minor": 1
}
