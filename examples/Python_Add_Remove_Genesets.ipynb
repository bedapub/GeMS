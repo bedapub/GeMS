{
 "cells": [
  {
   "cell_type": "markdown",
   "metadata": {},
   "source": [
    "## Adding and Removing Genesets with GeMS REST-API (Python)"
   ]
  },
  {
   "cell_type": "markdown",
   "metadata": {},
   "source": [
    "Import the library function for dealing with HTTP POST requests"
   ]
  },
  {
   "cell_type": "code",
   "execution_count": 1,
   "metadata": {
    "collapsed": true
   },
   "outputs": [],
   "source": [
    "from requests import post"
   ]
  },
  {
   "cell_type": "markdown",
   "metadata": {},
   "source": [
    "### 1. Adding Genesets"
   ]
  },
  {
   "cell_type": "markdown",
   "metadata": {},
   "source": [
    "The URL endpoint for handling geneset imports: `\\insert`"
   ]
  },
  {
   "cell_type": "code",
   "execution_count": 2,
   "metadata": {
    "collapsed": true
   },
   "outputs": [],
   "source": [
    "BASE_URL_1 = 'http://biocomp:1234/api/insert'"
   ]
  },
  {
   "cell_type": "markdown",
   "metadata": {},
   "source": [
    "There are three fields for the input JSON object:\n",
    "\n",
    "| Fields    | Type              | Description                                                       |\n",
    "|:---------:|:----------------- |:----------------------------------------------------------------- |\n",
    "| `params`  | `Dict`            | The command-line arguments for GMTx file upload (see below)       |\n",
    "| `headers` | `List[Str]`       | Tab-separated **header** of the GMTx file format                  |\n",
    "| `parsed`  | `List[List[Str]]` | Tab and line-separated **content** of the GMTx file format        |\n",
    "\n",
    "The applicable arguments for the `params` field are listed below:\n",
    "\n",
    "| Args | Name         | Required | Examples                |\n",
    "|:----:|:------------:|:--------:|:----------------------- |\n",
    "| `gf` | Gene format  | O        | 0, 1, 2, 3              |\n",
    "| `so` | Source       | O        | Roche, MSigDB...        |\n",
    "| `ti` | Taxonomy ID  | O        | 9606, 10090...          |\n",
    "| `us` | User         | O        | Public, badil...        |\n",
    "| `st` | Subtype      | X        | C7, BP...               |\n",
    "| `do` | Domain       | X        | pathway, cell marker... |"
   ]
  },
  {
   "cell_type": "code",
   "execution_count": 3,
   "metadata": {
    "collapsed": true
   },
   "outputs": [],
   "source": [
    "params = {'gf': 0, 'so': 'Roche', 'ti': 9606, 'us': 'kanga6'}\n",
    "\n",
    "headers = ['setName', 'desc', 'genes']\n",
    "\n",
    "parsed = [\n",
    "    ['TIROSH_exhaution_marker_subset', 'subset from TRIOSH table S14', 'CXCL13', 'TNFRSF1B', 'RGS2'], \n",
    "    ['Speiser_EBV_subset_DN', 'subset from Speiser_table S2', 'ACADSB', 'AFTPH', 'ARL1']\n",
    "]\n",
    "\n",
    "dataIn_1 = {\n",
    "    'headers': headers,\n",
    "    'parsed': parsed,\n",
    "    'params': params\n",
    "}"
   ]
  },
  {
   "cell_type": "markdown",
   "metadata": {},
   "source": [
    "The fields `headers` and `parsed`, in essence, contains a deconstructed GMTx file. If you have your genesets in a some other format, just write your own helper function. \n",
    "\n",
    "Here is an example with the same geneset as above (convert `genesets` to `parsed`):"
   ]
  },
  {
   "cell_type": "code",
   "execution_count": 4,
   "metadata": {
    "collapsed": true
   },
   "outputs": [],
   "source": [
    "genesets = [\n",
    "    {\n",
    "        'setName': 'TIROSH_exhaution_marker_subset', \n",
    "        'desc': 'subset from TRIOSH table S14', \n",
    "        'genes': ['CXCL13', 'TNFRSF1B', 'RGS2']\n",
    "    },\n",
    "    {\n",
    "        'setName': 'Speiser_EBV_subset_DN', \n",
    "        'desc': 'subset from Speiser_table S2', \n",
    "        'genes': ['ACADSB', 'AFTPH', 'ARL1']\n",
    "    }\n",
    "]\n",
    "\n",
    "parsed = []\n",
    "for geneset in genesets:\n",
    "    sParsed = []\n",
    "    for header in headers:\n",
    "        if header != 'genes':\n",
    "            sParsed.append(geneset[header])\n",
    "        else:\n",
    "            sParsed += geneset[header]\n",
    "    parsed.append(sParsed)"
   ]
  },
  {
   "cell_type": "markdown",
   "metadata": {},
   "source": [
    "The payload is sent via an HTTP POST request, which returns the response as a JSON object. The first element of the `response` array should show either a 200 (good request) or a 404 (bad request). Any error messages are listed in the proceeding elements."
   ]
  },
  {
   "cell_type": "code",
   "execution_count": 5,
   "metadata": {},
   "outputs": [
    {
     "name": "stdout",
     "output_type": "stream",
     "text": [
      "{'response': [200]}\n"
     ]
    }
   ],
   "source": [
    "returnJSON = post(BASE_URL_1, json=dataIn_1).json()\n",
    "print(returnJSON)"
   ]
  },
  {
   "cell_type": "markdown",
   "metadata": {},
   "source": [
    "### 2. Removing Genesets"
   ]
  },
  {
   "cell_type": "markdown",
   "metadata": {},
   "source": [
    "The URL endpoint for handling geneset removals: `\\remove`"
   ]
  },
  {
   "cell_type": "code",
   "execution_count": 6,
   "metadata": {
    "collapsed": true
   },
   "outputs": [],
   "source": [
    "BASE_URL_2 = 'http://biocomp:1234/api/remove'"
   ]
  },
  {
   "cell_type": "markdown",
   "metadata": {},
   "source": [
    "There is one field for the input JSON object:\n",
    "\n",
    "| Field     | Type         | Description                                                             |\n",
    "|:---------:|:------------ |:----------------------------------------------------------------------- |\n",
    "| `genesets`| `List[Dict]` | Array of JSON objects with keys: `setName`, `source`, `user`, `subtype` | "
   ]
  },
  {
   "cell_type": "code",
   "execution_count": 7,
   "metadata": {
    "collapsed": true
   },
   "outputs": [],
   "source": [
    "toRemove = [\n",
    "    {\n",
    "        'setName': 'TIROSH_exhaution_marker_subset', \n",
    "        'source': 'Roche', \n",
    "        'user': 'kanga6', \n",
    "        'subtype': ''\n",
    "    },\n",
    "    {\n",
    "        'setName': 'Speiser_EBV_subset_DN', \n",
    "        'source': 'Roche', \n",
    "        'user': 'kanga6', \n",
    "        'subtype': ''\n",
    "    }\n",
    "]\n",
    "\n",
    "dataIn_2 = {\n",
    "    'genesets': toRemove\n",
    "}"
   ]
  },
  {
   "cell_type": "markdown",
   "metadata": {},
   "source": [
    "The payload is sent via an HTTP POST request, which returns the response as a JSON object. The first element of the `response` array should show either a 200 (good request) or a 404 (bad request). Any error messages are listed in the proceeding elements."
   ]
  },
  {
   "cell_type": "code",
   "execution_count": 8,
   "metadata": {},
   "outputs": [
    {
     "name": "stdout",
     "output_type": "stream",
     "text": [
      "{'response': 200}\n"
     ]
    }
   ],
   "source": [
    "returnJSON = post(BASE_URL_2, json=dataIn_2).json()\n",
    "print(returnJSON)"
   ]
  }
 ],
 "metadata": {
  "anaconda-cloud": {},
  "kernelspec": {
   "display_name": "Python [default]",
   "language": "python",
   "name": "python3"
  },
  "language_info": {
   "codemirror_mode": {
    "name": "ipython",
    "version": 3
   },
   "file_extension": ".py",
   "mimetype": "text/x-python",
   "name": "python",
   "nbconvert_exporter": "python",
   "pygments_lexer": "ipython3",
   "version": "3.5.2"
  }
 },
 "nbformat": 4,
 "nbformat_minor": 1
}
